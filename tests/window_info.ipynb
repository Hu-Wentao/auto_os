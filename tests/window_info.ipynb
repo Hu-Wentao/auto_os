{
 "cells": [
  {
   "cell_type": "code",
   "id": "initial_id",
   "metadata": {
    "collapsed": true,
    "ExecuteTime": {
     "end_time": "2024-06-07T16:24:45.889401Z",
     "start_time": "2024-06-07T16:24:43.508130Z"
    }
   },
   "source": [
    "from auto_os import get_window_info\n",
    "\n",
    "# info = get_window_info(name='pycharm')\n",
    "info = get_window_info(name='Safari')\n",
    "# info = get_window_info(name='Finder')\n",
    "# info = get_window_info(name='Code')\n",
    "info"
   ],
   "execution_count": 1,
   "outputs": []
  },
  {
   "metadata": {
    "ExecuteTime": {
     "end_time": "2024-06-07T16:24:45.896322Z",
     "start_time": "2024-06-07T16:24:45.892512Z"
    }
   },
   "cell_type": "code",
   "source": [
    "# from time import sleep\n",
    "# from auto_os import get_active_window_info\n",
    "# \n",
    "# sleep(2)\n",
    "# info = get_active_window_info()\n",
    "# info"
   ],
   "id": "ccefab543db8465e",
   "execution_count": 2,
   "outputs": []
  },
  {
   "metadata": {
    "ExecuteTime": {
     "end_time": "2024-06-07T16:24:46.014782Z",
     "start_time": "2024-06-07T16:24:45.898415Z"
    }
   },
   "cell_type": "code",
   "source": [
    "from auto_os import screenshot\n",
    "\n",
    "image = screenshot(region=info['box'])"
   ],
   "id": "3a6dfc52d832aa37",
   "execution_count": 3,
   "outputs": []
  },
  {
   "metadata": {
    "ExecuteTime": {
     "end_time": "2024-06-07T16:24:46.091178Z",
     "start_time": "2024-06-07T16:24:46.016157Z"
    }
   },
   "cell_type": "code",
   "source": "image",
   "id": "ff073415fd5f6a94",
   "execution_count": 4,
   "outputs": []
  },
  {
   "metadata": {
    "ExecuteTime": {
     "end_time": "2024-06-07T16:25:06.100378Z",
     "start_time": "2024-06-07T16:25:05.540336Z"
    }
   },
   "cell_type": "code",
   "source": [
    "from PIL import ImageGrab\n",
    "# sleep(2)\n",
    "\n",
    "img = ImageGrab.grab(info['box'])\n",
    "img"
   ],
   "id": "5d4de6736b81c82",
   "execution_count": 7,
   "outputs": []
  },
  {
   "metadata": {},
   "cell_type": "code",
   "source": "",
   "id": "2dc53307f925f8b9",
   "execution_count": null,
   "outputs": []
  }
 ],
 "metadata": {
  "kernelspec": {
   "display_name": "Python 3",
   "language": "python",
   "name": "python3"
  },
  "language_info": {
   "codemirror_mode": {
    "name": "ipython",
    "version": 2
   },
   "file_extension": ".py",
   "mimetype": "text/x-python",
   "name": "python",
   "nbconvert_exporter": "python",
   "pygments_lexer": "ipython2",
   "version": "2.7.6"
  }
 },
 "nbformat": 4,
 "nbformat_minor": 5
}
