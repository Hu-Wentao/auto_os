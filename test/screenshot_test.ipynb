{
 "cells": [
  {
   "metadata": {
    "ExecuteTime": {
     "end_time": "2024-06-07T16:15:06.594196Z",
     "start_time": "2024-06-07T16:15:05.456022Z"
    }
   },
   "cell_type": "code",
   "source": [
    "from auto_os import screenshot\n",
    "\n",
    "image = screenshot(region=(0, 0, 100, 100))\n",
    "\n",
    "image"
   ],
   "id": "2c9636ae62a1086a",
   "execution_count": 1,
   "outputs": []
  },
  {
   "metadata": {
    "ExecuteTime": {
     "end_time": "2024-06-07T16:15:06.596449Z",
     "start_time": "2024-06-07T16:15:06.595109Z"
    }
   },
   "cell_type": "code",
   "source": "",
   "id": "53c410b1a0e9e17",
   "execution_count": 1,
   "outputs": []
  }
 ],
 "metadata": {
  "kernelspec": {
   "display_name": "Python 3",
   "language": "python",
   "name": "python3"
  },
  "language_info": {
   "codemirror_mode": {
    "name": "ipython",
    "version": 2
   },
   "file_extension": ".py",
   "mimetype": "text/x-python",
   "name": "python",
   "nbconvert_exporter": "python",
   "pygments_lexer": "ipython2",
   "version": "2.7.6"
  }
 },
 "nbformat": 4,
 "nbformat_minor": 5
}
